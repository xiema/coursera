{
 "cells": [
  {
   "cell_type": "code",
   "execution_count": 1,
   "metadata": {},
   "outputs": [],
   "source": [
    "import turicreate\n",
    "import numpy as np\n",
    "sales = turicreate.SFrame('home_data.sframe/')"
   ]
  },
  {
   "cell_type": "code",
   "execution_count": 9,
   "metadata": {},
   "outputs": [],
   "source": [
    "import math"
   ]
  },
  {
   "cell_type": "code",
   "execution_count": 4,
   "metadata": {},
   "outputs": [
    {
     "name": "stdout",
     "output_type": "stream",
     "text": [
      "+----------+-----------+\n",
      "| bedrooms | bathrooms |\n",
      "+----------+-----------+\n",
      "|   3.0    |    1.0    |\n",
      "|   3.0    |    2.25   |\n",
      "|   2.0    |    1.0    |\n",
      "|   4.0    |    3.0    |\n",
      "|   3.0    |    2.0    |\n",
      "|   4.0    |    4.5    |\n",
      "|   3.0    |    2.25   |\n",
      "|   3.0    |    1.5    |\n",
      "|   3.0    |    1.0    |\n",
      "|   3.0    |    2.5    |\n",
      "+----------+-----------+\n",
      "[21613 rows x 2 columns]\n",
      "Note: Only the head of the SFrame is printed.\n",
      "You can use print_rows(num_rows=m, num_columns=n) to print more rows and columns.\n"
     ]
    }
   ],
   "source": [
    "print(sales[['bedrooms','bathrooms']])"
   ]
  },
  {
   "cell_type": "code",
   "execution_count": 5,
   "metadata": {},
   "outputs": [],
   "source": [
    "def get_numpy_data(data_sframe, features, output):\n",
    "    data_sframe['constant'] = 1\n",
    "    features = ['constant'] + features\n",
    "    features_sframe = data_sframe[features]\n",
    "    features_matrix = features_sframe.to_numpy()\n",
    "    output_sarray = data_sframe[output]\n",
    "    output_array = output_sarray.to_numpy()\n",
    "    \n",
    "    return (features_matrix, output_array)"
   ]
  },
  {
   "cell_type": "code",
   "execution_count": 6,
   "metadata": {},
   "outputs": [],
   "source": [
    "def predict_outcome(feature_matrix, weights):\n",
    "    return np.dot(feature_matrix, weights)"
   ]
  },
  {
   "cell_type": "code",
   "execution_count": 18,
   "metadata": {},
   "outputs": [],
   "source": [
    "def feature_derivative(errors, feature):\n",
    "    return 2*np.dot(errors, feature)"
   ]
  },
  {
   "cell_type": "code",
   "execution_count": 33,
   "metadata": {},
   "outputs": [],
   "source": [
    "def regression_gradient_descent(feature_matrix, output, initial_weights,\n",
    "  step_size, tolerance):\n",
    "    converged = False\n",
    "    weights = np.array(initial_weights)\n",
    "    while not converged:\n",
    "        predictions = predict_outcome(feature_matrix, weights)\n",
    "        errors = predictions - output\n",
    "        \n",
    "        feature_gradients = feature_derivative(errors, feature_matrix.T)\n",
    "        weights = weights - feature_gradients * step_size\n",
    "        gradient_magnitude = math.sqrt(np.sum(feature_gradients**2))\n",
    "        print(\"Gradient magnitude:\" + str(gradient_magnitude))\n",
    "        if gradient_magnitude < tolerance:\n",
    "            converged = True\n",
    "    return weights"
   ]
  },
  {
   "cell_type": "code",
   "execution_count": 11,
   "metadata": {},
   "outputs": [],
   "source": [
    "train_data,test_data = sales.random_split(.8,seed=0)"
   ]
  },
  {
   "cell_type": "code",
   "execution_count": 12,
   "metadata": {},
   "outputs": [],
   "source": [
    "simple_features = ['sqft_living']\n",
    "my_output = 'price'\n",
    "simple_feature_matrix,output = get_numpy_data(train_data,simple_features,my_output)\n",
    "initial_weights = np.array([-47000.,1.])\n",
    "step_size = 7e-12\n",
    "tolerance = 2.5e7"
   ]
  },
  {
   "cell_type": "code",
   "execution_count": 34,
   "metadata": {},
   "outputs": [
    {
     "name": "stdout",
     "output_type": "stream",
     "text": [
      "Gradient magnitude:50551530774393.43\n",
      "Gradient magnitude:13127451023549.023\n",
      "Gradient magnitude:3408996082527.6133\n",
      "Gradient magnitude:885263580099.7512\n",
      "Gradient magnitude:229889265719.7766\n",
      "Gradient magnitude:59698688259.6684\n",
      "Gradient magnitude:15502826422.108559\n",
      "Gradient magnitude:4025844401.513712\n",
      "Gradient magnitude:1045449748.1580132\n",
      "Gradient magnitude:271487891.8631257\n",
      "Gradient magnitude:70504114.69200751\n",
      "Gradient magnitude:18320016.741784383\n"
     ]
    }
   ],
   "source": [
    "simple_weights = regression_gradient_descent(simple_feature_matrix,\n",
    "  output, initial_weights, step_size, tolerance)"
   ]
  },
  {
   "cell_type": "markdown",
   "metadata": {},
   "source": [
    "# Q1"
   ]
  },
  {
   "cell_type": "code",
   "execution_count": 35,
   "metadata": {},
   "outputs": [
    {
     "data": {
      "text/plain": [
       "array([-46999.88716555,    281.91211912])"
      ]
     },
     "execution_count": 35,
     "metadata": {},
     "output_type": "execute_result"
    }
   ],
   "source": [
    "simple_weights"
   ]
  },
  {
   "cell_type": "code",
   "execution_count": 62,
   "metadata": {},
   "outputs": [],
   "source": [
    "test_simple_feature_matrix,test_output = get_numpy_data(test_data,simple_features,my_output)"
   ]
  },
  {
   "cell_type": "markdown",
   "metadata": {},
   "source": [
    "# Q2"
   ]
  },
  {
   "cell_type": "code",
   "execution_count": 40,
   "metadata": {},
   "outputs": [
    {
     "data": {
      "text/plain": [
       "356134.4431709297"
      ]
     },
     "execution_count": 40,
     "metadata": {},
     "output_type": "execute_result"
    }
   ],
   "source": [
    "predict_outcome(test_simple_feature_matrix[0],simple_weights)"
   ]
  },
  {
   "cell_type": "code",
   "execution_count": 63,
   "metadata": {},
   "outputs": [
    {
     "data": {
      "text/plain": [
       "310000.0"
      ]
     },
     "execution_count": 63,
     "metadata": {},
     "output_type": "execute_result"
    }
   ],
   "source": [
    "test_output[0]"
   ]
  },
  {
   "cell_type": "code",
   "execution_count": 42,
   "metadata": {},
   "outputs": [],
   "source": [
    "def regression_rss(feature_matrix, output, weights):\n",
    "    predictions = predict_outcome(feature_matrix, weights)\n",
    "    return np.sum((output-predictions)**2)"
   ]
  },
  {
   "cell_type": "code",
   "execution_count": 47,
   "metadata": {},
   "outputs": [
    {
     "name": "stdout",
     "output_type": "stream",
     "text": [
      "1201918394833303.8\n",
      "275400047593155.94\n"
     ]
    }
   ],
   "source": [
    "print(regression_rss(simple_feature_matrix,output,simple_weights))\n",
    "print(regression_rss(test_simple_feature_matrix,test_output,simple_weights))"
   ]
  },
  {
   "cell_type": "code",
   "execution_count": 50,
   "metadata": {},
   "outputs": [],
   "source": [
    "model2_features  = ['sqft_living','sqft_living15']\n",
    "model2_output = 'price'\n",
    "model2_initial_weights = [-100000,1,1]\n",
    "model2_step_size = 4e-12\n",
    "model2_tolerance = 1e9\n",
    "feature_matrix,output = get_numpy_data(train_data,model2_features,model2_output)"
   ]
  },
  {
   "cell_type": "code",
   "execution_count": 51,
   "metadata": {
    "scrolled": true
   },
   "outputs": [
    {
     "name": "stdout",
     "output_type": "stream",
     "text": [
      "Gradient magnitude:73072020548860.52\n",
      "Gradient magnitude:22673220965110.367\n",
      "Gradient magnitude:7060794582096.98\n",
      "Gradient magnitude:2275682394265.519\n",
      "Gradient magnitude:928984105638.4108\n",
      "Gradient magnitude:656307425178.072\n",
      "Gradient magnitude:610615351821.3131\n",
      "Gradient magnitude:593078765306.848\n",
      "Gradient magnitude:578705920128.3187\n",
      "Gradient magnitude:564945676163.1849\n",
      "Gradient magnitude:551538681424.5585\n",
      "Gradient magnitude:538452422879.0524\n",
      "Gradient magnitude:525676912708.20874\n",
      "Gradient magnitude:513204543689.9785\n",
      "Gradient magnitude:501028100319.072\n",
      "Gradient magnitude:489140559100.83356\n",
      "Gradient magnitude:477535065232.9935\n",
      "Gradient magnitude:466204926754.44226\n",
      "Gradient magnitude:455143610499.4314\n",
      "Gradient magnitude:444344738312.006\n",
      "Gradient magnitude:433802083366.4155\n",
      "Gradient magnitude:423509566576.45337\n",
      "Gradient magnitude:413461253090.10345\n",
      "Gradient magnitude:403651348867.41516\n",
      "Gradient magnitude:394074197339.5451\n",
      "Gradient magnitude:384724276147.0776\n",
      "Gradient magnitude:375596193955.73224\n",
      "Gradient magnitude:366684687347.6287\n",
      "Gradient magnitude:357984617786.2922\n",
      "Gradient magnitude:349490968653.69257\n",
      "Gradient magnitude:341198842357.5621\n",
      "Gradient magnitude:333103457507.35846\n",
      "Gradient magnitude:325200146157.23645\n",
      "Gradient magnitude:317484351114.4036\n",
      "Gradient magnitude:309951623311.3862\n",
      "Gradient magnitude:302597619240.5968\n",
      "Gradient magnitude:295418098449.8009\n",
      "Gradient magnitude:288408921096.98535\n",
      "Gradient magnitude:281566045563.2604\n",
      "Gradient magnitude:274885526122.38153\n",
      "Gradient magnitude:268363510665.57303\n",
      "Gradient magnitude:261996238480.33765\n",
      "Gradient magnitude:255780038081.9529\n",
      "Gradient magnitude:249711325096.43472\n",
      "Gradient magnitude:243786600193.71475\n",
      "Gradient magnitude:238002447069.86877\n",
      "Gradient magnitude:232355530477.21423\n",
      "Gradient magnitude:226842594301.139\n",
      "Gradient magnitude:221460459682.57425\n",
      "Gradient magnitude:216206023185.0024\n",
      "Gradient magnitude:211076255004.96204\n",
      "Gradient magnitude:206068197225.0024\n",
      "Gradient magnitude:201178962108.1042\n",
      "Gradient magnitude:196405730432.548\n",
      "Gradient magnitude:191745749866.30823\n",
      "Gradient magnitude:187196333380.00024\n",
      "Gradient magnitude:182754857697.4977\n",
      "Gradient magnitude:178418761783.30276\n",
      "Gradient magnitude:174185545365.7999\n",
      "Gradient magnitude:170052767495.56418\n",
      "Gradient magnitude:166018045137.85556\n",
      "Gradient magnitude:162079051798.5256\n",
      "Gradient magnitude:158233516182.51358\n",
      "Gradient magnitude:154479220884.18155\n",
      "Gradient magnitude:150814001108.70996\n",
      "Gradient magnitude:147235743423.84622\n",
      "Gradient magnitude:143742384541.25772\n",
      "Gradient magnitude:140331910126.80066\n",
      "Gradient magnitude:137002353639.02072\n",
      "Gradient magnitude:133751795195.20972\n",
      "Gradient magnitude:130578360464.36453\n",
      "Gradient magnitude:127480219586.41605\n",
      "Gradient magnitude:124455586117.09625\n",
      "Gradient magnitude:121502715997.84215\n",
      "Gradient magnitude:118619906550.14618\n",
      "Gradient magnitude:115805495493.74854\n",
      "Gradient magnitude:113057859988.14987\n",
      "Gradient magnitude:110375415696.83894\n",
      "Gradient magnitude:107756615873.75063\n",
      "Gradient magnitude:105199950471.3675\n",
      "Gradient magnitude:102703945270.01181\n",
      "Gradient magnitude:100267161027.77498\n",
      "Gradient magnitude:97888192650.63239\n",
      "Gradient magnitude:95565668382.23305\n",
      "Gradient magnitude:93298249012.9281\n",
      "Gradient magnitude:91084627107.54689\n",
      "Gradient magnitude:88923526251.52307\n",
      "Gradient magnitude:86813700314.86894\n",
      "Gradient magnitude:84753932733.65573\n",
      "Gradient magnitude:82743035808.50774\n",
      "Gradient magnitude:80779850019.75273\n",
      "Gradient magnitude:78863243358.83014\n",
      "Gradient magnitude:76992110675.55385\n",
      "Gradient magnitude:75165373040.84746\n",
      "Gradient magnitude:73381977124.63602\n",
      "Gradient magnitude:71640894588.46107\n",
      "Gradient magnitude:69941121492.52698\n",
      "Gradient magnitude:68281677716.81262\n",
      "Gradient magnitude:66661606395.91801\n",
      "Gradient magnitude:65079973367.31066\n",
      "Gradient magnitude:63535866632.671814\n",
      "Gradient magnitude:62028395832.03536\n",
      "Gradient magnitude:60556691730.37311\n",
      "Gradient magnitude:59119905716.38315\n",
      "Gradient magnitude:57717209313.17255\n",
      "Gradient magnitude:56347793700.53112\n",
      "Gradient magnitude:55010869248.55981\n",
      "Gradient magnitude:53705665062.35286\n",
      "Gradient magnitude:52431428537.48264\n",
      "Gradient magnitude:51187424926.04073\n",
      "Gradient magnitude:49972936912.96389\n",
      "Gradient magnitude:48787264202.41565\n",
      "Gradient magnitude:47629723113.99246\n",
      "Gradient magnitude:46499646188.48743\n",
      "Gradient magnitude:45396381803.03599\n",
      "Gradient magnitude:44319293795.36423\n",
      "Gradient magnitude:43267761096.97631\n",
      "Gradient magnitude:42241177375.031525\n",
      "Gradient magnitude:41238950682.72128\n",
      "Gradient magnitude:40260503117.94262\n",
      "Gradient magnitude:39305270490.06822\n",
      "Gradient magnitude:38372701994.625694\n",
      "Gradient magnitude:37462259895.69336\n",
      "Gradient magnitude:36573419215.82949\n",
      "Gradient magnitude:35705667433.36445\n",
      "Gradient magnitude:34858504186.869286\n",
      "Gradient magnitude:34031440986.63774\n",
      "Gradient magnitude:33224000933.01781\n",
      "Gradient magnitude:32435718441.4152\n",
      "Gradient magnitude:31666138973.83613\n",
      "Gradient magnitude:30914818776.794075\n",
      "Gradient magnitude:30181324625.421787\n",
      "Gradient magnitude:29465233573.678715\n",
      "Gradient magnitude:28766132710.46609\n",
      "Gradient magnitude:28083618921.53628\n",
      "Gradient magnitude:27417298657.049297\n",
      "Gradient magnitude:26766787704.644432\n",
      "Gradient magnitude:26131710967.898796\n",
      "Gradient magnitude:25511702250.04189\n",
      "Gradient magnitude:24906404042.787613\n",
      "Gradient magnitude:24315467320.204006\n",
      "Gradient magnitude:23738551337.451977\n",
      "Gradient magnitude:23175323434.300884\n",
      "Gradient magnitude:22625458843.31964\n",
      "Gradient magnitude:22088640502.60469\n",
      "Gradient magnitude:21564558872.954235\n",
      "Gradient magnitude:21052911759.388927\n",
      "Gradient magnitude:20553404136.895817\n",
      "Gradient magnitude:20065747980.3122\n",
      "Gradient magnitude:19589662098.247692\n",
      "Gradient magnitude:19124871970.93903\n",
      "Gradient magnitude:18671109591.96193\n",
      "Gradient magnitude:18228113313.694107\n",
      "Gradient magnitude:17795627696.437576\n",
      "Gradient magnitude:17373403361.13682\n",
      "Gradient magnitude:16961196845.57451\n",
      "Gradient magnitude:16558770463.993029\n",
      "Gradient magnitude:16165892170.03472\n",
      "Gradient magnitude:15782335422.94506\n",
      "Gradient magnitude:15407879056.93874\n",
      "Gradient magnitude:15042307153.681854\n",
      "Gradient magnitude:14685408917.775574\n",
      "Gradient magnitude:14336978555.220499\n",
      "Gradient magnitude:13996815154.744774\n",
      "Gradient magnitude:13664722571.957611\n",
      "Gradient magnitude:13340509316.24605\n",
      "Gradient magnitude:13023988440.363148\n",
      "Gradient magnitude:12714977432.624372\n",
      "Gradient magnitude:12413298111.67507\n",
      "Gradient magnitude:12118776523.74253\n",
      "Gradient magnitude:11831242842.33447\n",
      "Gradient magnitude:11550531270.308052\n",
      "Gradient magnitude:11276479944.277508\n",
      "Gradient magnitude:11008930841.274206\n",
      "Gradient magnitude:10747729687.625208\n",
      "Gradient magnitude:10492725870.007477\n",
      "Gradient magnitude:10243772348.59098\n",
      "Gradient magnitude:10000725572.252802\n",
      "Gradient magnitude:9763445395.813156\n",
      "Gradient magnitude:9531794999.216063\n",
      "Gradient magnitude:9305640808.634655\n",
      "Gradient magnitude:9084852419.460028\n",
      "Gradient magnitude:8869302521.097542\n",
      "Gradient magnitude:8658866823.562523\n",
      "Gradient magnitude:8453423985.813969\n",
      "Gradient magnitude:8252855545.783534\n",
      "Gradient magnitude:8057045852.065736\n",
      "Gradient magnitude:7865881997.23562\n",
      "Gradient magnitude:7679253752.748007\n",
      "Gradient magnitude:7497053505.3664465\n",
      "Gradient magnitude:7319176195.123881\n",
      "Gradient magnitude:7145519254.732073\n",
      "Gradient magnitude:6975982550.447414\n",
      "Gradient magnitude:6810468324.330114\n",
      "Gradient magnitude:6648881137.870948\n",
      "Gradient magnitude:6491127816.965265\n",
      "Gradient magnitude:6337117398.186384\n",
      "Gradient magnitude:6186761076.33099\n",
      "Gradient magnitude:6039972153.212032\n",
      "Gradient magnitude:5896665987.675982\n",
      "Gradient magnitude:5756759946.783744\n",
      "Gradient magnitude:5620173358.172381\n",
      "Gradient magnitude:5486827463.537788\n",
      "Gradient magnitude:5356645373.214445\n",
      "Gradient magnitude:5229552021.8475485\n",
      "Gradient magnitude:5105474125.102764\n",
      "Gradient magnitude:4984340137.412039\n",
      "Gradient magnitude:4866080210.721291\n",
      "Gradient magnitude:4750626154.209292\n",
      "Gradient magnitude:4637911394.970458\n",
      "Gradient magnitude:4527870939.627577\n",
      "Gradient magnitude:4420441336.85913\n",
      "Gradient magnitude:4315560640.805911\n",
      "Gradient magnitude:4213168375.354131\n",
      "Gradient magnitude:4113205499.2644677\n",
      "Gradient magnitude:4015614372.128101\n",
      "Gradient magnitude:3920338721.1296077\n",
      "Gradient magnitude:3827323608.5996532\n",
      "Gradient magnitude:3736515400.335194\n",
      "Gradient magnitude:3647861734.678116\n",
      "Gradient magnitude:3561311492.310156\n",
      "Gradient magnitude:3476814766.7950363\n",
      "Gradient magnitude:3394322835.7841797\n",
      "Gradient magnitude:3313788132.9348707\n",
      "Gradient magnitude:3235164220.4757385\n",
      "Gradient magnitude:3158405762.428964\n",
      "Gradient magnitude:3083468498.4778776\n",
      "Gradient magnitude:3010309218.432129\n",
      "Gradient magnitude:2938885737.3275175\n",
      "Gradient magnitude:2869156871.0824523\n",
      "Gradient magnitude:2801082412.7717676\n",
      "Gradient magnitude:2734623109.4235306\n",
      "Gradient magnitude:2669740639.401162\n",
      "Gradient magnitude:2606397590.2917757\n",
      "Gradient magnitude:2544557437.343692\n",
      "Gradient magnitude:2484184522.402553\n",
      "Gradient magnitude:2425244033.3509607\n",
      "Gradient magnitude:2367701984.0305085\n",
      "Gradient magnitude:2311525194.654178\n",
      "Gradient magnitude:2256681272.662332\n",
      "Gradient magnitude:2203138594.0549164\n",
      "Gradient magnitude:2150866285.153906\n",
      "Gradient magnitude:2099834204.794514\n",
      "Gradient magnitude:2050012926.9533355\n",
      "Gradient magnitude:2001373723.7783341\n",
      "Gradient magnitude:1953888549.020226\n",
      "Gradient magnitude:1907530021.8672113\n",
      "Gradient magnitude:1862271411.1507082\n",
      "Gradient magnitude:1818086619.9323606\n",
      "Gradient magnitude:1774950170.4622798\n",
      "Gradient magnitude:1732837189.4764714\n",
      "Gradient magnitude:1691723393.8718152\n",
      "Gradient magnitude:1651585076.6839144\n",
      "Gradient magnitude:1612399093.4293492\n",
      "Gradient magnitude:1574142848.7606425\n",
      "Gradient magnitude:1536794283.4327953\n",
      "Gradient magnitude:1500331861.582933\n",
      "Gradient magnitude:1464734558.3202803\n",
      "Gradient magnitude:1429981847.592284\n",
      "Gradient magnitude:1396053690.3521438\n",
      "Gradient magnitude:1362930523.0129344\n",
      "Gradient magnitude:1330593246.1529148\n",
      "Gradient magnitude:1299023213.5101397\n",
      "Gradient magnitude:1268202221.2316492\n",
      "Gradient magnitude:1238112497.3763833\n",
      "Gradient magnitude:1208736691.6612825\n",
      "Gradient magnitude:1180057865.462438\n",
      "Gradient magnitude:1152059482.0483463\n",
      "Gradient magnitude:1124725397.0459497\n",
      "Gradient magnitude:1098039849.1213055\n",
      "Gradient magnitude:1071987450.9079773\n",
      "Gradient magnitude:1046553180.1136065\n",
      "Gradient magnitude:1021722370.8825458\n",
      "Gradient magnitude:997480705.3173668\n"
     ]
    }
   ],
   "source": [
    "model2_weights = regression_gradient_descent(feature_matrix,output,\n",
    "    model2_initial_weights,model2_step_size,model2_tolerance)"
   ]
  },
  {
   "cell_type": "code",
   "execution_count": 64,
   "metadata": {},
   "outputs": [],
   "source": [
    "test_feature_matrix,test_output = get_numpy_data(test_data,model2_features,model2_output)"
   ]
  },
  {
   "cell_type": "markdown",
   "metadata": {},
   "source": [
    "# Q3"
   ]
  },
  {
   "cell_type": "code",
   "execution_count": 65,
   "metadata": {},
   "outputs": [
    {
     "data": {
      "text/plain": [
       "array([366651.41203656, 762662.39786164, 386312.09499712, ...,\n",
       "       682087.39928241, 585579.27865729, 216559.20396617])"
      ]
     },
     "execution_count": 65,
     "metadata": {},
     "output_type": "execute_result"
    }
   ],
   "source": [
    "predict_outcome(test_feature_matrix,model2_weights)"
   ]
  },
  {
   "cell_type": "code",
   "execution_count": 66,
   "metadata": {},
   "outputs": [
    {
     "data": {
      "text/plain": [
       "310000.0"
      ]
     },
     "execution_count": 66,
     "metadata": {},
     "output_type": "execute_result"
    }
   ],
   "source": [
    "test_output[0]"
   ]
  },
  {
   "cell_type": "markdown",
   "metadata": {},
   "source": [
    "# Q5"
   ]
  },
  {
   "cell_type": "code",
   "execution_count": 61,
   "metadata": {},
   "outputs": [
    {
     "data": {
      "text/plain": [
       "275400047593155.94"
      ]
     },
     "execution_count": 61,
     "metadata": {},
     "output_type": "execute_result"
    }
   ],
   "source": [
    "275400047593155.94"
   ]
  },
  {
   "cell_type": "code",
   "execution_count": 60,
   "metadata": {},
   "outputs": [
    {
     "data": {
      "text/plain": [
       "270263446465244.06"
      ]
     },
     "execution_count": 60,
     "metadata": {},
     "output_type": "execute_result"
    }
   ],
   "source": [
    "regression_rss(test_feature_matrix,test_output,model2_weights)"
   ]
  },
  {
   "cell_type": "code",
   "execution_count": 55,
   "metadata": {
    "scrolled": true
   },
   "outputs": [
    {
     "data": {
      "text/html": [
       "<pre>Linear regression:</pre>"
      ],
      "text/plain": [
       "Linear regression:"
      ]
     },
     "metadata": {},
     "output_type": "display_data"
    },
    {
     "data": {
      "text/html": [
       "<pre>--------------------------------------------------------</pre>"
      ],
      "text/plain": [
       "--------------------------------------------------------"
      ]
     },
     "metadata": {},
     "output_type": "display_data"
    },
    {
     "data": {
      "text/html": [
       "<pre>Number of examples          : 17384</pre>"
      ],
      "text/plain": [
       "Number of examples          : 17384"
      ]
     },
     "metadata": {},
     "output_type": "display_data"
    },
    {
     "data": {
      "text/html": [
       "<pre>Number of features          : 2</pre>"
      ],
      "text/plain": [
       "Number of features          : 2"
      ]
     },
     "metadata": {},
     "output_type": "display_data"
    },
    {
     "data": {
      "text/html": [
       "<pre>Number of unpacked features : 2</pre>"
      ],
      "text/plain": [
       "Number of unpacked features : 2"
      ]
     },
     "metadata": {},
     "output_type": "display_data"
    },
    {
     "data": {
      "text/html": [
       "<pre>Number of coefficients    : 3</pre>"
      ],
      "text/plain": [
       "Number of coefficients    : 3"
      ]
     },
     "metadata": {},
     "output_type": "display_data"
    },
    {
     "data": {
      "text/html": [
       "<pre>Starting Newton Method</pre>"
      ],
      "text/plain": [
       "Starting Newton Method"
      ]
     },
     "metadata": {},
     "output_type": "display_data"
    },
    {
     "data": {
      "text/html": [
       "<pre>--------------------------------------------------------</pre>"
      ],
      "text/plain": [
       "--------------------------------------------------------"
      ]
     },
     "metadata": {},
     "output_type": "display_data"
    },
    {
     "data": {
      "text/html": [
       "<pre>+-----------+----------+--------------+--------------------+---------------------------------+</pre>"
      ],
      "text/plain": [
       "+-----------+----------+--------------+--------------------+---------------------------------+"
      ]
     },
     "metadata": {},
     "output_type": "display_data"
    },
    {
     "data": {
      "text/html": [
       "<pre>| Iteration | Passes   | Elapsed Time | Training Max Error | Training Root-Mean-Square Error |</pre>"
      ],
      "text/plain": [
       "| Iteration | Passes   | Elapsed Time | Training Max Error | Training Root-Mean-Square Error |"
      ]
     },
     "metadata": {},
     "output_type": "display_data"
    },
    {
     "data": {
      "text/html": [
       "<pre>+-----------+----------+--------------+--------------------+---------------------------------+</pre>"
      ],
      "text/plain": [
       "+-----------+----------+--------------+--------------------+---------------------------------+"
      ]
     },
     "metadata": {},
     "output_type": "display_data"
    },
    {
     "data": {
      "text/html": [
       "<pre>| 1         | 2        | 0.009429     | 4588581.155968     | 261304.240828                   |</pre>"
      ],
      "text/plain": [
       "| 1         | 2        | 0.009429     | 4588581.155968     | 261304.240828                   |"
      ]
     },
     "metadata": {},
     "output_type": "display_data"
    },
    {
     "data": {
      "text/html": [
       "<pre>+-----------+----------+--------------+--------------------+---------------------------------+</pre>"
      ],
      "text/plain": [
       "+-----------+----------+--------------+--------------------+---------------------------------+"
      ]
     },
     "metadata": {},
     "output_type": "display_data"
    },
    {
     "data": {
      "text/html": [
       "<pre>SUCCESS: Optimal solution found.</pre>"
      ],
      "text/plain": [
       "SUCCESS: Optimal solution found."
      ]
     },
     "metadata": {},
     "output_type": "display_data"
    },
    {
     "data": {
      "text/html": [
       "<pre></pre>"
      ],
      "text/plain": []
     },
     "metadata": {},
     "output_type": "display_data"
    }
   ],
   "source": [
    "test_model = turicreate.linear_regression.create(train_data,\n",
    "    features=model2_features,target=model2_output,validation_set=None)"
   ]
  },
  {
   "cell_type": "code",
   "execution_count": 56,
   "metadata": {},
   "outputs": [
    {
     "data": {
      "text/plain": [
       "dtype: float\n",
       "Rows: 1\n",
       "[366541.862742807]"
      ]
     },
     "execution_count": 56,
     "metadata": {},
     "output_type": "execute_result"
    }
   ],
   "source": [
    "test_model.predict(test_data[0])"
   ]
  },
  {
   "cell_type": "code",
   "execution_count": null,
   "metadata": {},
   "outputs": [],
   "source": []
  }
 ],
 "metadata": {
  "kernelspec": {
   "display_name": "Python 3",
   "language": "python",
   "name": "python3"
  },
  "language_info": {
   "codemirror_mode": {
    "name": "ipython",
    "version": 3
   },
   "file_extension": ".py",
   "mimetype": "text/x-python",
   "name": "python",
   "nbconvert_exporter": "python",
   "pygments_lexer": "ipython3",
   "version": "3.8.2"
  }
 },
 "nbformat": 4,
 "nbformat_minor": 4
}
